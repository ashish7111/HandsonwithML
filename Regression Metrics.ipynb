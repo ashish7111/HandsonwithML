{
 "cells": [
  {
   "cell_type": "markdown",
   "id": "7f6a422e-165b-4b9c-b57f-8a62698f7cd7",
   "metadata": {},
   "source": [
    "# Regression Metrics"
   ]
  },
  {
   "cell_type": "markdown",
   "id": "eebb24f7-5040-450b-969d-bf2b390ba963",
   "metadata": {},
   "source": [
    "## Mean Absolute Error (MAE)\n",
    "- Measure sthe average magnitude of errors without considering their direction"
   ]
  },
  {
   "cell_type": "code",
   "execution_count": 17,
   "id": "b32887cc-51cd-478c-9f45-fdcdd7494124",
   "metadata": {},
   "outputs": [],
   "source": [
    "from sklearn.metrics import mean_absolute_error\n",
    "from sklearn.linear_model import LinearRegression\n",
    "from sklearn.datasets import make_regression\n",
    "from sklearn.model_selection import train_test_split\n"
   ]
  },
  {
   "cell_type": "code",
   "execution_count": 19,
   "id": "a2760baa-848e-412a-83c0-8c8a90f38c0e",
   "metadata": {},
   "outputs": [],
   "source": [
    "# Creating a synthetic Data\n",
    "X, y = make_regression(n_samples = 1000, n_features=10, noise = 0.1, random_state=42)\n",
    "X_train, X_test, y_train, y_test = train_test_split(X,y, test_size = 0.2, random_state = 42)"
   ]
  },
  {
   "cell_type": "code",
   "execution_count": 21,
   "id": "f24ff2ba-6b2b-42b2-98cb-aef9d55cd534",
   "metadata": {},
   "outputs": [],
   "source": [
    "# MOdel Training\n",
    "model = LinearRegression()\n",
    "model.fit(X_train, y_train)\n",
    "y_pred = model.predict(X_test)"
   ]
  },
  {
   "cell_type": "code",
   "execution_count": 25,
   "id": "fa597c25-30ae-4988-9b8e-6b034d16f623",
   "metadata": {},
   "outputs": [
    {
     "name": "stdout",
     "output_type": "stream",
     "text": [
      "Mean Absolute Error: 0.08\n"
     ]
    }
   ],
   "source": [
    "mae = mean_absolute_error(y_test, y_pred)\n",
    "print(f\"Mean Absolute Error: {mae:.2f}\")"
   ]
  },
  {
   "cell_type": "code",
   "execution_count": 27,
   "id": "5f8bf81e-7483-4a49-9df9-a723a492ecde",
   "metadata": {},
   "outputs": [
    {
     "name": "stdout",
     "output_type": "stream",
     "text": [
      "Mean Squared Error: 0.01\n",
      "Roor Mean Squared Error: 0.10\n"
     ]
    }
   ],
   "source": [
    "from sklearn.metrics import mean_squared_error\n",
    "import numpy as np\n",
    "\n",
    "#MSAE and RMSE\n",
    "mse = mean_squared_error(y_test, y_pred)\n",
    "rmse = np.sqrt(mse)\n",
    "\n",
    "print(f\"Mean Squared Error: {mse:.2f}\")\n",
    "print(f\"Root Mean Squared Error: {rmse:.2f}\")"
   ]
  },
  {
   "cell_type": "code",
   "execution_count": 31,
   "id": "20cb890f-8bcc-4d7f-901f-b6c00e98f3f9",
   "metadata": {},
   "outputs": [
    {
     "name": "stdout",
     "output_type": "stream",
     "text": [
      "R2 Score: 1.00\n"
     ]
    }
   ],
   "source": [
    "from sklearn.metrics import r2_score\n",
    "r2 = r2_score(y_test, y_pred)\n",
    "print(f\"R2 Score: {r2:.2f}\")"
   ]
  },
  {
   "cell_type": "markdown",
   "id": "8bc8b7aa-2e13-41f6-ae82-08623e45f30c",
   "metadata": {},
   "source": [
    "## Cross-Validation Method\n",
    "## K-Fold Cross Validation"
   ]
  },
  {
   "cell_type": "code",
   "execution_count": 1,
   "id": "0a3eaa95-6959-4823-aee0-7977e8502ea9",
   "metadata": {},
   "outputs": [],
   "source": [
    "from sklearn.metrics import accuracy_score #accuracy_score py file is imported from metrics module from sklearn package\n",
    "from sklearn.datasets import make_classification\n",
    "from sklearn.ensemble import RandomForestClassifier\n",
    "from sklearn.model_selection import train_test_split\n",
    "\n",
    "# Creating a synthetic Data\n",
    "X, y = make_classification(n_samples = 1000, n_features=10, random_state=42)\n",
    "# Creating a test split\n",
    "X_train, X_test, y_train, y_test = train_test_split(X,y, test_size = 0.2, random_state = 42)\n",
    "# Model Trainig\n",
    "# Step-1: Create Classifier Instance\n",
    "model = RandomForestClassifier(random_state=42)\n",
    "\n",
    "# Step-2: Fit the model using X_train, and y_train\n",
    "model.fit(X_train, y_train)\n",
    "\n",
    "# Step-3: Predict the output of the model using X-test and store into y_pred\n",
    "y_pred = model.predict(X_test)"
   ]
  },
  {
   "cell_type": "code",
   "execution_count": 9,
   "id": "91855ff4-6d39-4e9c-ba34-68368eb1cd8c",
   "metadata": {},
   "outputs": [
    {
     "name": "stdout",
     "output_type": "stream",
     "text": [
      "K-Fold Accuracy Scores: [0.88  0.944 0.912 0.944 0.92  0.88  0.904 0.904]\n",
      "Mean Accuracy: 0.91\n"
     ]
    }
   ],
   "source": [
    "from sklearn.model_selection import cross_val_score\n",
    "\n",
    "#K-Fold Cross validation\n",
    "scores = cross_val_score(model, X, y, cv =8, scoring='accuracy')\n",
    "print(f\"K-Fold Accuracy Scores: {scores}\")\n",
    "print(f\"Mean Accuracy: {scores.mean():.2f}\")"
   ]
  },
  {
   "cell_type": "code",
   "execution_count": null,
   "id": "242d79eb-cf92-4cc0-a5b6-235ef71db924",
   "metadata": {},
   "outputs": [],
   "source": []
  }
 ],
 "metadata": {
  "kernelspec": {
   "display_name": "Python 3 (ipykernel)",
   "language": "python",
   "name": "python3"
  },
  "language_info": {
   "codemirror_mode": {
    "name": "ipython",
    "version": 3
   },
   "file_extension": ".py",
   "mimetype": "text/x-python",
   "name": "python",
   "nbconvert_exporter": "python",
   "pygments_lexer": "ipython3",
   "version": "3.12.7"
  }
 },
 "nbformat": 4,
 "nbformat_minor": 5
}
