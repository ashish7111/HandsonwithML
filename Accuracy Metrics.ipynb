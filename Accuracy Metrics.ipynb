{
 "cells": [
  {
   "attachments": {},
   "cell_type": "markdown",
   "id": "1e88012e-a61e-4ac7-a7d9-71d46ea49002",
   "metadata": {},
   "source": [
    "## Model Evaluation: Evaluation Metrices and Cross-Validation Methods\n",
    "\n",
    "\n"
   ]
  },
  {
   "cell_type": "markdown",
   "id": "d2b7c2de-a06c-4371-b890-278ade9c41c0",
   "metadata": {},
   "source": [
    "### Agenda\n",
    "- Exploring common evaluation metrics\n",
    "- Cross Validation Techniques\n",
    "- Real-time scenarios to determine the best practices for model evaluation"
   ]
  },
  {
   "cell_type": "markdown",
   "id": "c9b7a7af-923f-479d-a4e2-5fa015f37c73",
   "metadata": {},
   "source": [
    "### Introduction \n",
    "- Model evaluation is a ctitical step in machine learning model development\n",
    "- "
   ]
  },
  {
   "cell_type": "markdown",
   "id": "39960d05-3922-42a3-a2ec-e6fa3c912dea",
   "metadata": {},
   "source": [
    "### Evaluation Metrics\n",
    "### 1. Classification Metrics\n",
    "- Accuracy\n",
    "   - Definition: Ratio of correctly predicted instances to the total instances\n",
    "   - When to use: When dataset is balanced [ Equal number of samples/records/rows for each class] -> Balanced vs Biased\n",
    "   - Example: "
   ]
  },
  {
   "cell_type": "code",
   "execution_count": 10,
   "id": "a7764bc8-7743-4446-86d2-a3955c612923",
   "metadata": {},
   "outputs": [],
   "source": [
    "from sklearn.metrics import accuracy_score #accuracy_score py file is imported from metrics module from sklearn package\n",
    "from sklearn.datasets import make_classification\n",
    "from sklearn.ensemble import RandomForestClassifier\n",
    "from sklearn.model_selection import train_test_split\n"
   ]
  },
  {
   "cell_type": "code",
   "execution_count": 22,
   "id": "401c3fb7-d8e2-472f-812d-3e4e73b95c4b",
   "metadata": {},
   "outputs": [],
   "source": [
    "# Creating a synthetic Data\n",
    "X, y = make_classification(n_samples = 1000, n_features=10, random_state=42)\n"
   ]
  },
  {
   "cell_type": "code",
   "execution_count": 24,
   "id": "f5aed400-d97e-48b1-b360-e2bfa8a43c6e",
   "metadata": {},
   "outputs": [],
   "source": [
    "# Creating a test split\n",
    "X_train, X_test, y_train, y_test = train_test_split(X,y, test_size = 0.2, random_state = 42)"
   ]
  },
  {
   "cell_type": "code",
   "execution_count": 30,
   "id": "aa3908b1-6f94-42bb-ae8a-0825b6a6e319",
   "metadata": {},
   "outputs": [],
   "source": [
    "# Model Trainig\n",
    "# Step-1: Create Classifier Instance\n",
    "model = RandomForestClassifier(random_state=42)\n",
    "\n",
    "# Step-2: Fit the model using X_train, and y_train\n",
    "model.fit(X_train, y_train)\n",
    "\n",
    "# Step-3: Predict the output of the model using X-test and store into y_pred\n",
    "y_pred = model.predict(X_test)"
   ]
  },
  {
   "cell_type": "code",
   "execution_count": null,
   "id": "8789237b-a3c3-4c02-96b7-9417b73a6e54",
   "metadata": {},
   "outputs": [],
   "source": [
    "# Accuracy\n"
   ]
  }
 ],
 "metadata": {
  "kernelspec": {
   "display_name": "Python 3 (ipykernel)",
   "language": "python",
   "name": "python3"
  },
  "language_info": {
   "codemirror_mode": {
    "name": "ipython",
    "version": 3
   },
   "file_extension": ".py",
   "mimetype": "text/x-python",
   "name": "python",
   "nbconvert_exporter": "python",
   "pygments_lexer": "ipython3",
   "version": "3.12.7"
  }
 },
 "nbformat": 4,
 "nbformat_minor": 5
}
